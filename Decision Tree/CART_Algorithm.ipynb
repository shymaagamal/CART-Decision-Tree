{
 "metadata": {
  "language_info": {
   "codemirror_mode": {
    "name": "ipython",
    "version": 3
   },
   "file_extension": ".py",
   "mimetype": "text/x-python",
   "name": "python",
   "nbconvert_exporter": "python",
   "pygments_lexer": "ipython3",
   "version": "3.7.6-final"
  },
  "orig_nbformat": 2,
  "kernelspec": {
   "name": "python3",
   "display_name": "Python 3",
   "language": "python"
  }
 },
 "nbformat": 4,
 "nbformat_minor": 2,
 "cells": [
  {
   "source": [
    "# Import Important Package"
   ],
   "cell_type": "markdown",
   "metadata": {}
  },
  {
   "cell_type": "code",
   "execution_count": 1483,
   "metadata": {},
   "outputs": [],
   "source": [
    "import numpy as np\n",
    "import pandas as pd\n",
    "import matplotlib.pyplot as plt\n",
    "import random\n",
    "from sklearn.model_selection import train_test_split\n",
    "from sklearn import metrics "
   ]
  },
  {
   "source": [
    "# Load and Prepare Data"
   ],
   "cell_type": "markdown",
   "metadata": {}
  },
  {
   "cell_type": "code",
   "execution_count": 1484,
   "metadata": {},
   "outputs": [
    {
     "output_type": "execute_result",
     "data": {
      "text/plain": [
       "   id    age  gender  height  weight  ap_hi  ap_lo  cholesterol  gluc  smoke  \\\n",
       "0   0  18393       2     168    62.0    110     80            1     1      0   \n",
       "1   1  20228       1     156    85.0    140     90            3     1      0   \n",
       "2   2  18857       1     165    64.0    130     70            3     1      0   \n",
       "3   3  17623       2     169    82.0    150    100            1     1      0   \n",
       "4   4  17474       1     156    56.0    100     60            1     1      0   \n",
       "\n",
       "   alco  active  cardio  \n",
       "0     0       1       0  \n",
       "1     0       1       1  \n",
       "2     0       0       1  \n",
       "3     0       1       1  \n",
       "4     0       0       0  "
      ],
      "text/html": "<div>\n<style scoped>\n    .dataframe tbody tr th:only-of-type {\n        vertical-align: middle;\n    }\n\n    .dataframe tbody tr th {\n        vertical-align: top;\n    }\n\n    .dataframe thead th {\n        text-align: right;\n    }\n</style>\n<table border=\"1\" class=\"dataframe\">\n  <thead>\n    <tr style=\"text-align: right;\">\n      <th></th>\n      <th>id</th>\n      <th>age</th>\n      <th>gender</th>\n      <th>height</th>\n      <th>weight</th>\n      <th>ap_hi</th>\n      <th>ap_lo</th>\n      <th>cholesterol</th>\n      <th>gluc</th>\n      <th>smoke</th>\n      <th>alco</th>\n      <th>active</th>\n      <th>cardio</th>\n    </tr>\n  </thead>\n  <tbody>\n    <tr>\n      <th>0</th>\n      <td>0</td>\n      <td>18393</td>\n      <td>2</td>\n      <td>168</td>\n      <td>62.0</td>\n      <td>110</td>\n      <td>80</td>\n      <td>1</td>\n      <td>1</td>\n      <td>0</td>\n      <td>0</td>\n      <td>1</td>\n      <td>0</td>\n    </tr>\n    <tr>\n      <th>1</th>\n      <td>1</td>\n      <td>20228</td>\n      <td>1</td>\n      <td>156</td>\n      <td>85.0</td>\n      <td>140</td>\n      <td>90</td>\n      <td>3</td>\n      <td>1</td>\n      <td>0</td>\n      <td>0</td>\n      <td>1</td>\n      <td>1</td>\n    </tr>\n    <tr>\n      <th>2</th>\n      <td>2</td>\n      <td>18857</td>\n      <td>1</td>\n      <td>165</td>\n      <td>64.0</td>\n      <td>130</td>\n      <td>70</td>\n      <td>3</td>\n      <td>1</td>\n      <td>0</td>\n      <td>0</td>\n      <td>0</td>\n      <td>1</td>\n    </tr>\n    <tr>\n      <th>3</th>\n      <td>3</td>\n      <td>17623</td>\n      <td>2</td>\n      <td>169</td>\n      <td>82.0</td>\n      <td>150</td>\n      <td>100</td>\n      <td>1</td>\n      <td>1</td>\n      <td>0</td>\n      <td>0</td>\n      <td>1</td>\n      <td>1</td>\n    </tr>\n    <tr>\n      <th>4</th>\n      <td>4</td>\n      <td>17474</td>\n      <td>1</td>\n      <td>156</td>\n      <td>56.0</td>\n      <td>100</td>\n      <td>60</td>\n      <td>1</td>\n      <td>1</td>\n      <td>0</td>\n      <td>0</td>\n      <td>0</td>\n      <td>0</td>\n    </tr>\n  </tbody>\n</table>\n</div>"
     },
     "metadata": {},
     "execution_count": 1484
    }
   ],
   "source": [
    "data=pd.read_csv('cardio_train.csv')\n",
    "data.head()"
   ]
  },
  {
   "source": [
    "### *The age is given in days, I have to convert it into years*"
   ],
   "cell_type": "markdown",
   "metadata": {}
  },
  {
   "cell_type": "code",
   "execution_count": 1485,
   "metadata": {},
   "outputs": [],
   "source": [
    "data[\"age\"] = data[\"age\"]/365\n",
    "data[\"age\"] = data[\"age\"].astype(\"int\")"
   ]
  },
  {
   "source": [
    "### *I don't use id column so i drop it*"
   ],
   "cell_type": "markdown",
   "metadata": {}
  },
  {
   "cell_type": "code",
   "execution_count": 1486,
   "metadata": {},
   "outputs": [
    {
     "output_type": "execute_result",
     "data": {
      "text/plain": [
       "   age  gender  height  weight  systolic_bp  diastolic_bp  cholesterol  gluc  \\\n",
       "0   50       2     168    62.0          110            80            1     1   \n",
       "\n",
       "   smoke  alco  active  cardio  \n",
       "0      0     0       1       0  "
      ],
      "text/html": "<div>\n<style scoped>\n    .dataframe tbody tr th:only-of-type {\n        vertical-align: middle;\n    }\n\n    .dataframe tbody tr th {\n        vertical-align: top;\n    }\n\n    .dataframe thead th {\n        text-align: right;\n    }\n</style>\n<table border=\"1\" class=\"dataframe\">\n  <thead>\n    <tr style=\"text-align: right;\">\n      <th></th>\n      <th>age</th>\n      <th>gender</th>\n      <th>height</th>\n      <th>weight</th>\n      <th>systolic_bp</th>\n      <th>diastolic_bp</th>\n      <th>cholesterol</th>\n      <th>gluc</th>\n      <th>smoke</th>\n      <th>alco</th>\n      <th>active</th>\n      <th>cardio</th>\n    </tr>\n  </thead>\n  <tbody>\n    <tr>\n      <th>0</th>\n      <td>50</td>\n      <td>2</td>\n      <td>168</td>\n      <td>62.0</td>\n      <td>110</td>\n      <td>80</td>\n      <td>1</td>\n      <td>1</td>\n      <td>0</td>\n      <td>0</td>\n      <td>1</td>\n      <td>0</td>\n    </tr>\n  </tbody>\n</table>\n</div>"
     },
     "metadata": {},
     "execution_count": 1486
    }
   ],
   "source": [
    "data = data.drop('id',axis=1)\n",
    "data.rename(columns={'ap_hi':'systolic_bp','ap_lo':'diastolic_bp'},inplace=True)\n",
    "data.head(1)"
   ]
  },
  {
   "source": [
    "### *See if have any dublicates in data*"
   ],
   "cell_type": "markdown",
   "metadata": {}
  },
  {
   "cell_type": "code",
   "execution_count": 1487,
   "metadata": {},
   "outputs": [
    {
     "output_type": "execute_result",
     "data": {
      "text/plain": [
       "3208"
      ]
     },
     "metadata": {},
     "execution_count": 1487
    }
   ],
   "source": [
    "data.duplicated().sum()"
   ]
  },
  {
   "source": [
    "### *Drop dublicates*"
   ],
   "cell_type": "markdown",
   "metadata": {}
  },
  {
   "cell_type": "code",
   "execution_count": 1488,
   "metadata": {},
   "outputs": [],
   "source": [
    "data.drop_duplicates(inplace=True)"
   ]
  },
  {
   "cell_type": "code",
   "execution_count": 1489,
   "metadata": {},
   "outputs": [
    {
     "output_type": "execute_result",
     "data": {
      "text/plain": [
       "(66792, 12)"
      ]
     },
     "metadata": {},
     "execution_count": 1489
    }
   ],
   "source": [
    "data.shape"
   ]
  },
  {
   "source": [
    "### *See if there is any outliers in data*"
   ],
   "cell_type": "markdown",
   "metadata": {}
  },
  {
   "cell_type": "code",
   "execution_count": 1490,
   "metadata": {},
   "outputs": [
    {
     "output_type": "stream",
     "name": "stdout",
     "text": [
      "There is 1415 outlier\n"
     ]
    }
   ],
   "source": [
    "outlier = ((data[\"systolic_bp\"]>200) | (data[\"diastolic_bp\"]>180) | (data[\"diastolic_bp\"]<50) | (data[\"systolic_bp\"]<=80) )\n",
    "print(\"There is {} outlier\".format(data[outlier][\"cardio\"].count()))"
   ]
  },
  {
   "source": [
    "### *Drop outliers*"
   ],
   "cell_type": "markdown",
   "metadata": {}
  },
  {
   "cell_type": "code",
   "execution_count": 1491,
   "metadata": {},
   "outputs": [],
   "source": [
    "# Removing  the outlier from the Dataset.\n",
    "data = data[~outlier]\n"
   ]
  },
  {
   "source": [
    "### *Height and weight seems uncorrelated with the cardio feature but Body Mass Index (BMI) could be more helpful*\n",
    "### *i use pulse pressure to determine cardio feature to reduce numbers of feature*"
   ],
   "cell_type": "markdown",
   "metadata": {}
  },
  {
   "cell_type": "code",
   "execution_count": 1492,
   "metadata": {},
   "outputs": [],
   "source": [
    "data[\"bmi\"] = data[\"weight\"]/ (data[\"height\"]/100)**2\n"
   ]
  },
  {
   "cell_type": "code",
   "execution_count": 1493,
   "metadata": {},
   "outputs": [],
   "source": [
    "data = data.drop(['weight','height'],axis=1)\n"
   ]
  },
  {
   "cell_type": "code",
   "execution_count": 1494,
   "metadata": {},
   "outputs": [
    {
     "output_type": "execute_result",
     "data": {
      "text/plain": [
       "   age  gender  systolic_bp  diastolic_bp  cholesterol  gluc  smoke  alco  \\\n",
       "0   50       0          110            80            1     1      0     0   \n",
       "1   55       1          140            90            3     1      0     0   \n",
       "2   51       1          130            70            3     1      0     0   \n",
       "3   48       0          150           100            1     1      0     0   \n",
       "4   47       1          100            60            1     1      0     0   \n",
       "\n",
       "   active  cardio        bmi  \n",
       "0       1       0  21.967120  \n",
       "1       1       1  34.927679  \n",
       "2       0       1  23.507805  \n",
       "3       1       1  28.710479  \n",
       "4       0       0  23.011177  "
      ],
      "text/html": "<div>\n<style scoped>\n    .dataframe tbody tr th:only-of-type {\n        vertical-align: middle;\n    }\n\n    .dataframe tbody tr th {\n        vertical-align: top;\n    }\n\n    .dataframe thead th {\n        text-align: right;\n    }\n</style>\n<table border=\"1\" class=\"dataframe\">\n  <thead>\n    <tr style=\"text-align: right;\">\n      <th></th>\n      <th>age</th>\n      <th>gender</th>\n      <th>systolic_bp</th>\n      <th>diastolic_bp</th>\n      <th>cholesterol</th>\n      <th>gluc</th>\n      <th>smoke</th>\n      <th>alco</th>\n      <th>active</th>\n      <th>cardio</th>\n      <th>bmi</th>\n    </tr>\n  </thead>\n  <tbody>\n    <tr>\n      <th>0</th>\n      <td>50</td>\n      <td>0</td>\n      <td>110</td>\n      <td>80</td>\n      <td>1</td>\n      <td>1</td>\n      <td>0</td>\n      <td>0</td>\n      <td>1</td>\n      <td>0</td>\n      <td>21.967120</td>\n    </tr>\n    <tr>\n      <th>1</th>\n      <td>55</td>\n      <td>1</td>\n      <td>140</td>\n      <td>90</td>\n      <td>3</td>\n      <td>1</td>\n      <td>0</td>\n      <td>0</td>\n      <td>1</td>\n      <td>1</td>\n      <td>34.927679</td>\n    </tr>\n    <tr>\n      <th>2</th>\n      <td>51</td>\n      <td>1</td>\n      <td>130</td>\n      <td>70</td>\n      <td>3</td>\n      <td>1</td>\n      <td>0</td>\n      <td>0</td>\n      <td>0</td>\n      <td>1</td>\n      <td>23.507805</td>\n    </tr>\n    <tr>\n      <th>3</th>\n      <td>48</td>\n      <td>0</td>\n      <td>150</td>\n      <td>100</td>\n      <td>1</td>\n      <td>1</td>\n      <td>0</td>\n      <td>0</td>\n      <td>1</td>\n      <td>1</td>\n      <td>28.710479</td>\n    </tr>\n    <tr>\n      <th>4</th>\n      <td>47</td>\n      <td>1</td>\n      <td>100</td>\n      <td>60</td>\n      <td>1</td>\n      <td>1</td>\n      <td>0</td>\n      <td>0</td>\n      <td>0</td>\n      <td>0</td>\n      <td>23.011177</td>\n    </tr>\n  </tbody>\n</table>\n</div>"
     },
     "metadata": {},
     "execution_count": 1494
    }
   ],
   "source": [
    "data[\"gender\"] = data[\"gender\"] % 2\n",
    "data.head(5)\n"
   ]
  },
  {
   "source": [
    "### *BMI between  18.5 and 25 , personis Normal*\n",
    "### *if BMI obove 25 , person is obese*\n",
    "### *if BMI less than 18.5 , person is underweight *"
   ],
   "cell_type": "markdown",
   "metadata": {}
  },
  {
   "cell_type": "code",
   "execution_count": 1495,
   "metadata": {},
   "outputs": [],
   "source": [
    "\n",
    "for i,row in data.iterrows():\n",
    "    if row['bmi'] <18.5 :\n",
    "        data.at[i,'bmi'] = 0\n",
    "    elif row['bmi'] >25 :\n",
    "        data.at[i,'bmi'] = 2\n",
    "    else  :\n",
    "        data.at[i,'bmi'] = 1      \n"
   ]
  },
  {
   "source": [
    "### *systolic blood pressure number:*\n",
    "\n",
    "*Normal: Below 120*\n",
    "\n",
    "*Elevated: 120-129*\n",
    "\n",
    "*Stage 1 high blood pressure (also called hypertension): 130-139*\n",
    "\n",
    "*Stage 2 hypertension: 140 or more*\n",
    "\n",
    "*Hypertensive crisis: 180 or more.*"
   ],
   "cell_type": "markdown",
   "metadata": {}
  },
  {
   "cell_type": "code",
   "execution_count": 1496,
   "metadata": {},
   "outputs": [],
   "source": [
    "for i,row in data.iterrows():\n",
    "    if row['systolic_bp'] <120 :\n",
    "        data.at[i,'systolic_bp'] = 0\n",
    "    elif (row['systolic_bp'] >=120) and (row['systolic_bp'] <=129) :\n",
    "        data.at[i,'systolic_bp'] = 1\n",
    "    elif (row['systolic_bp'] >=130) and (row['systolic_bp'] <=139) :\n",
    "        data.at[i,'systolic_bp'] = 2\n",
    "    elif (row['systolic_bp'] >=140) and (row['systolic_bp'] <179) :\n",
    "        data.at[i,'systolic_bp'] = 3\n",
    "    else  :\n",
    "        data.at[i,'systolic_bp'] = 4  "
   ]
  },
  {
   "source": [
    "### *diastolic blood pressure number means:*\n",
    "\n",
    "*Normal: Lower than 80*\n",
    "\n",
    "*Stage 1 hypertension: 80-89*\n",
    "\n",
    "*Stage 2 hypertension: 90 or more*\n",
    "\n",
    "*Hypertensive crisis: 120 or more*"
   ],
   "cell_type": "markdown",
   "metadata": {}
  },
  {
   "cell_type": "code",
   "execution_count": 1497,
   "metadata": {},
   "outputs": [],
   "source": [
    "for i,row in data.iterrows():\n",
    "    if row['diastolic_bp'] <80 :\n",
    "        data.at[i,'diastolic_bp'] = 0\n",
    "    elif (row['diastolic_bp'] >=80) and (row['diastolic_bp'] <=90) :\n",
    "        data.at[i,'diastolic_bp'] = 1\n",
    "    elif (row['diastolic_bp'] >90) and (row['diastolic_bp'] <=120) :\n",
    "        data.at[i,'diastolic_bp'] = 2\n",
    "    else  :\n",
    "        data.at[i,'diastolic_bp'] = 3  "
   ]
  },
  {
   "cell_type": "code",
   "execution_count": 1498,
   "metadata": {},
   "outputs": [
    {
     "output_type": "execute_result",
     "data": {
      "text/plain": [
       "array([50, 55, 51, 48, 47, 60, 61, 54, 40, 39, 45, 58, 59, 63, 64, 53, 49,\n",
       "       57, 56, 46, 43, 62, 52, 42, 44, 41, 29, 30])"
      ]
     },
     "metadata": {},
     "execution_count": 1498
    }
   ],
   "source": [
    "data.age.unique()"
   ]
  },
  {
   "cell_type": "code",
   "execution_count": 1499,
   "metadata": {},
   "outputs": [],
   "source": [
    "for i,row in data.iterrows():\n",
    "    if (row['age'] >=20) and (row['age'] <=40) :\n",
    "        data.at[i,'age'] = 0\n",
    "    elif (row['age'] >40) and (row['age'] <=45) :\n",
    "        data.at[i,'age'] = 1\n",
    "    elif (row['age'] >45) and (row['age'] <=50) :\n",
    "        data.at[i,'age'] = 2\n",
    "    elif (row['age'] >50) and (row['age'] <=55) :\n",
    "        data.at[i,'age'] = 3\n",
    "    elif (row['age'] >55) and (row['age'] <=60) :\n",
    "        data.at[i,'age'] = 4\n",
    "    else  :\n",
    "        data.at[i,'age'] = 5"
   ]
  },
  {
   "source": [
    "### *Rearrange Columns*"
   ],
   "cell_type": "markdown",
   "metadata": {}
  },
  {
   "cell_type": "code",
   "execution_count": 1500,
   "metadata": {},
   "outputs": [],
   "source": [
    "data =  data[ [ col for col in data.columns if col != 'cardio' ]+['cardio'] ]"
   ]
  },
  {
   "cell_type": "code",
   "execution_count": 1501,
   "metadata": {},
   "outputs": [
    {
     "output_type": "execute_result",
     "data": {
      "text/plain": [
       "   age  gender  systolic_bp  diastolic_bp  cholesterol  gluc  smoke  alco  \\\n",
       "0    2       0            0             1            1     1      0     0   \n",
       "1    3       1            3             1            3     1      0     0   \n",
       "2    3       1            2             0            3     1      0     0   \n",
       "\n",
       "   active  bmi  cardio  \n",
       "0       1  1.0       0  \n",
       "1       1  2.0       1  \n",
       "2       0  1.0       1  "
      ],
      "text/html": "<div>\n<style scoped>\n    .dataframe tbody tr th:only-of-type {\n        vertical-align: middle;\n    }\n\n    .dataframe tbody tr th {\n        vertical-align: top;\n    }\n\n    .dataframe thead th {\n        text-align: right;\n    }\n</style>\n<table border=\"1\" class=\"dataframe\">\n  <thead>\n    <tr style=\"text-align: right;\">\n      <th></th>\n      <th>age</th>\n      <th>gender</th>\n      <th>systolic_bp</th>\n      <th>diastolic_bp</th>\n      <th>cholesterol</th>\n      <th>gluc</th>\n      <th>smoke</th>\n      <th>alco</th>\n      <th>active</th>\n      <th>bmi</th>\n      <th>cardio</th>\n    </tr>\n  </thead>\n  <tbody>\n    <tr>\n      <th>0</th>\n      <td>2</td>\n      <td>0</td>\n      <td>0</td>\n      <td>1</td>\n      <td>1</td>\n      <td>1</td>\n      <td>0</td>\n      <td>0</td>\n      <td>1</td>\n      <td>1.0</td>\n      <td>0</td>\n    </tr>\n    <tr>\n      <th>1</th>\n      <td>3</td>\n      <td>1</td>\n      <td>3</td>\n      <td>1</td>\n      <td>3</td>\n      <td>1</td>\n      <td>0</td>\n      <td>0</td>\n      <td>1</td>\n      <td>2.0</td>\n      <td>1</td>\n    </tr>\n    <tr>\n      <th>2</th>\n      <td>3</td>\n      <td>1</td>\n      <td>2</td>\n      <td>0</td>\n      <td>3</td>\n      <td>1</td>\n      <td>0</td>\n      <td>0</td>\n      <td>0</td>\n      <td>1.0</td>\n      <td>1</td>\n    </tr>\n  </tbody>\n</table>\n</div>"
     },
     "metadata": {},
     "execution_count": 1501
    }
   ],
   "source": [
    "data.head(3)"
   ]
  },
  {
   "source": [
    "# Train and Test Split"
   ],
   "cell_type": "markdown",
   "metadata": {}
  },
  {
   "cell_type": "code",
   "execution_count": 1502,
   "metadata": {},
   "outputs": [],
   "source": [
    "def train_test_splits(df,test_size):\n",
    "    if isinstance(test_size,float):\n",
    "        test_size=round(test_size *len(df))\n",
    "    indcies=df.index.tolist()\n",
    "    test_indices=random.sample(population=indcies,k=test_size)\n",
    "    test_set=df.loc[test_indices]\n",
    "    train_set=df.drop(test_indices)\n",
    "    return train_set,test_set"
   ]
  },
  {
   "cell_type": "code",
   "execution_count": 1503,
   "metadata": {},
   "outputs": [],
   "source": [
    "random.seed(0)\n",
    "train_set,test_set=train_test_splits(data,test_size=0.1)"
   ]
  },
  {
   "source": [
    "Algorithm\n",
    "![](Algorithm.png)\n",
    " "
   ],
   "cell_type": "markdown",
   "metadata": {}
  },
  {
   "cell_type": "code",
   "execution_count": 1504,
   "metadata": {},
   "outputs": [],
   "source": [
    "def check_purity(data): \n",
    "    labels = data[:,-1]\n",
    "    unique_classes = np.unique(labels)\n",
    "\n",
    "    if len(unique_classes) == 1:\n",
    "        return True\n",
    "    else:\n",
    "        return False"
   ]
  },
  {
   "cell_type": "code",
   "execution_count": 1505,
   "metadata": {},
   "outputs": [
    {
     "output_type": "execute_result",
     "data": {
      "text/plain": [
       "False"
      ]
     },
     "metadata": {},
     "execution_count": 1505
    }
   ],
   "source": [
    "check_purity(train_set.values)"
   ]
  },
  {
   "source": [
    "### *Return Majority Class*"
   ],
   "cell_type": "markdown",
   "metadata": {}
  },
  {
   "cell_type": "code",
   "execution_count": 1506,
   "metadata": {},
   "outputs": [],
   "source": [
    "def classify_data(dataset): \n",
    "    labels = dataset[:,-1]\n",
    "    unique_classes, count_unique_classes = np.unique(labels, return_counts=True)\n",
    "    index = count_unique_classes.argmax()\n",
    "    classification = unique_classes[index]\n",
    "    return classification"
   ]
  },
  {
   "cell_type": "code",
   "execution_count": 1507,
   "metadata": {},
   "outputs": [
    {
     "output_type": "execute_result",
     "data": {
      "text/plain": [
       "1.0"
      ]
     },
     "metadata": {},
     "execution_count": 1507
    }
   ],
   "source": [
    "classify_data(train_set[train_set.age<30].values)"
   ]
  },
  {
   "source": [
    "### *Potential_splits*"
   ],
   "cell_type": "markdown",
   "metadata": {}
  },
  {
   "cell_type": "code",
   "execution_count": 1508,
   "metadata": {},
   "outputs": [],
   "source": [
    "def get_potential_split(data):\n",
    "    potential_splits = {}\n",
    "    n_cols = data.shape[1]  # Number of columns\n",
    "    for i_col in range(n_cols - 1): # Disregarding the last label column  \n",
    "        potential_splits[i_col] = []\n",
    "        values = data[:,i_col]\n",
    "        unique_values = np.unique(values)   # All possible values\n",
    "        for index in range(len(unique_values)):\n",
    "            if index !=0 :\n",
    "                current_value=unique_values[index]\n",
    "                previous_value=unique_values[index-1]\n",
    "                potential_splits[i_col].append((current_value+previous_value)/2)\n",
    "    return potential_splits"
   ]
  },
  {
   "cell_type": "code",
   "execution_count": 1509,
   "metadata": {},
   "outputs": [
    {
     "output_type": "execute_result",
     "data": {
      "text/plain": [
       "{0: [0.5, 1.5, 2.5, 3.5, 4.5],\n",
       " 1: [0.5],\n",
       " 2: [0.5, 1.5, 2.5, 3.5],\n",
       " 3: [0.5, 1.5, 2.5],\n",
       " 4: [1.5, 2.5],\n",
       " 5: [1.5, 2.5],\n",
       " 6: [0.5],\n",
       " 7: [0.5],\n",
       " 8: [0.5],\n",
       " 9: [0.5, 1.5]}"
      ]
     },
     "metadata": {},
     "execution_count": 1509
    }
   ],
   "source": [
    "get_potential_split(train_set.values)"
   ]
  },
  {
   "source": [
    "### *Split data*"
   ],
   "cell_type": "markdown",
   "metadata": {}
  },
  {
   "cell_type": "code",
   "execution_count": 1510,
   "metadata": {},
   "outputs": [],
   "source": [
    "def split_data(data,split_column, split_value):\n",
    "    split_column_values = data[:, split_column]\n",
    "\n",
    "    left = data[split_column_values <= split_value]\n",
    "    right = data[split_column_values >  split_value]\n",
    "\n",
    "    return left, right\n"
   ]
  },
  {
   "cell_type": "code",
   "execution_count": 1511,
   "metadata": {},
   "outputs": [],
   "source": [
    "left,right=split_data(train_set.values,3,80)"
   ]
  },
  {
   "source": [
    "### Lowest Overall gini\n",
    "\n",
    "### Gini impurity \n",
    "## *$G=1-\\sum^{n}_{k=1}{p_{k}^{2}}$*"
   ],
   "cell_type": "markdown",
   "metadata": {}
  },
  {
   "cell_type": "code",
   "execution_count": 1512,
   "metadata": {},
   "outputs": [],
   "source": [
    "def calculate_gini(data): \n",
    "    labels = data[:,-1]\n",
    "    _, counts = np.unique(labels, return_counts=True)\n",
    "\n",
    "    probs = counts / counts.sum()\n",
    "    gini = 1 - sum(np.square(probs))\n",
    "\n",
    "    return gini"
   ]
  },
  {
   "source": [
    "### Cost Function That is minimized in classification\n",
    "\n",
    "### Overall Gini\n",
    "## *$J=\\frac{m_{left}}{m} G_{left}+\\frac{m_{right}}{m} G_{right}$*"
   ],
   "cell_type": "markdown",
   "metadata": {}
  },
  {
   "cell_type": "code",
   "execution_count": 1513,
   "metadata": {},
   "outputs": [],
   "source": [
    "def calculate_overall_gini(left, right): \n",
    "    total_num = len(left) + len(right)\n",
    "    prob_left = len(left) / total_num\n",
    "    prob_right = len(right) / total_num\n",
    "\n",
    "    overall_gini = prob_left * calculate_gini(left) + prob_right * calculate_gini(right)\n",
    "\n",
    "    return overall_gini "
   ]
  },
  {
   "cell_type": "code",
   "execution_count": 1514,
   "metadata": {},
   "outputs": [
    {
     "output_type": "execute_result",
     "data": {
      "text/plain": [
       "0.49990733740243565"
      ]
     },
     "metadata": {},
     "execution_count": 1514
    }
   ],
   "source": [
    "calculate_overall_gini(left,right)"
   ]
  },
  {
   "source": [
    "### *Find best feature and best valur to this feature to split data*"
   ],
   "cell_type": "markdown",
   "metadata": {}
  },
  {
   "cell_type": "code",
   "execution_count": 1515,
   "metadata": {},
   "outputs": [],
   "source": [
    "def find_best_split(data, potential_splits): \n",
    "    global best_split_column, best_split_value\n",
    "\n",
    "    min_overall_impurity = float('inf') # Store the largest overall impurity value\n",
    "    for coulmn_index in potential_splits:\n",
    "        for value in potential_splits[coulmn_index]:\n",
    "            left,right = split_data(data,coulmn_index, value)\n",
    "            overall_impurity = calculate_overall_gini(left, right)\n",
    "\n",
    "            if overall_impurity <= min_overall_impurity:    # Find new minimised impurity\n",
    "                min_overall_impurity = overall_impurity     # Replace the minimum impurity\n",
    "                best_split_column = coulmn_index\n",
    "                best_split_value = value\n",
    "    return best_split_column, best_split_value"
   ]
  },
  {
   "cell_type": "code",
   "execution_count": 1516,
   "metadata": {},
   "outputs": [
    {
     "output_type": "execute_result",
     "data": {
      "text/plain": [
       "(2, 1.5)"
      ]
     },
     "metadata": {},
     "execution_count": 1516
    }
   ],
   "source": [
    "\n",
    "splits=get_potential_split(train_set.values)\n",
    "\n",
    "find_best_split(train_set.values,splits)"
   ]
  },
  {
   "source": [
    "## Decision Tree Algorithm"
   ],
   "cell_type": "markdown",
   "metadata": {}
  },
  {
   "cell_type": "code",
   "execution_count": 1517,
   "metadata": {},
   "outputs": [],
   "source": [
    "def decision_tree_algorithm(data,counter=0,min_sample=10,max_depth=6):\n",
    "    #data Preperation \n",
    "    if counter==0:\n",
    "        global COLUMN_HEADERS\n",
    "        COLUMN_HEADERS=data.columns\n",
    "        data=data.values\n",
    "        \n",
    "\n",
    "    else:\n",
    "        \n",
    "        data=data \n",
    "    # base Algorithm ==> recursive function\n",
    "    if (check_purity(data)) or (len(data)< min_sample) or(counter==max_depth) :\n",
    "        classification=classify_data(data)\n",
    "        return classification\n",
    "        #recursive part   \n",
    "    else:\n",
    "        counter+=1\n",
    "        #helper function \n",
    "        potential_splits=get_potential_split(data)\n",
    "\n",
    "        split_column,split_value=find_best_split(data,potential_splits)\n",
    "        left,right=split_data(data,split_column,split_value)\n",
    "\n",
    "        #instant sub tree\n",
    "        features_name=COLUMN_HEADERS[split_column]\n",
    "        question =\"{} <= {}\".format(features_name,split_value)\n",
    "        sub_tree={question:[]}\n",
    "\n",
    "\n",
    "        #find answer(recuresion)\n",
    "        yes_answer=decision_tree_algorithm(left,counter,min_sample,max_depth)\n",
    "        no_answer=decision_tree_algorithm(right,counter,min_sample,max_depth)\n",
    "        if yes_answer==no_answer:\n",
    "            sub_tree=yes_answer\n",
    "\n",
    "        else:\n",
    "            sub_tree[question].append(yes_answer)\n",
    "            sub_tree[question].append(no_answer)\n",
    "\n",
    "        return sub_tree\n"
   ]
  },
  {
   "cell_type": "code",
   "execution_count": 1518,
   "metadata": {
    "tags": []
   },
   "outputs": [],
   "source": [
    "tree=decision_tree_algorithm(train_set,min_sample=10)\n"
   ]
  },
  {
   "source": [
    "## Classification"
   ],
   "cell_type": "markdown",
   "metadata": {}
  },
  {
   "source": [
    "### *Classifiy Just one instance*"
   ],
   "cell_type": "markdown",
   "metadata": {}
  },
  {
   "cell_type": "code",
   "execution_count": 1519,
   "metadata": {},
   "outputs": [
    {
     "output_type": "execute_result",
     "data": {
      "text/plain": [
       "'systolic_bp <= 1.5'"
      ]
     },
     "metadata": {},
     "execution_count": 1519
    }
   ],
   "source": [
    "question=list(tree.keys())[0]\n",
    "question\n"
   ]
  },
  {
   "cell_type": "code",
   "execution_count": 1520,
   "metadata": {},
   "outputs": [],
   "source": [
    "def classify_instance(instance,tree):        \n",
    "        question=list(tree.keys())[0]\n",
    "        feature_name,comparison_operator,value = question.split()\n",
    "\n",
    "        #ask question \n",
    "        if instance[feature_name] <= float(value):\n",
    "            answer=tree[question][0]\n",
    "        else:\n",
    "            answer=tree[question][1]\n",
    "\n",
    "        #base case\n",
    "        if not isinstance(answer,dict):\n",
    "            return answer\n",
    "        else:\n",
    "            residual_tree = answer\n",
    "            return classify_instance(instance,residual_tree)   \n",
    "                \n",
    "\n",
    "\n"
   ]
  },
  {
   "source": [
    "### *Classifiy all instances from test set*"
   ],
   "cell_type": "markdown",
   "metadata": {}
  },
  {
   "cell_type": "code",
   "execution_count": 1521,
   "metadata": {},
   "outputs": [],
   "source": [
    "def predict(test_set,tree):\n",
    "    predications=list()\n",
    "\n",
    "    for i in range(test_set.shape[0]):\n",
    "        predications.append(classify_instance(test_set.iloc[i],tree))\n",
    "\n",
    "    return predications"
   ]
  },
  {
   "cell_type": "code",
   "execution_count": 1522,
   "metadata": {
    "tags": []
   },
   "outputs": [],
   "source": [
    "Y_p=predict(test_set,tree)"
   ]
  },
  {
   "source": [
    "## Evaluate Performance"
   ],
   "cell_type": "markdown",
   "metadata": {}
  },
  {
   "cell_type": "code",
   "execution_count": 1523,
   "metadata": {},
   "outputs": [],
   "source": [
    "def accuracy_metric(actual, predicted):\n",
    "\tcorrect = 0\n",
    "\tfor i in range(len(actual)):\n",
    "\t\tif actual[i] == predicted[i]:\n",
    "\t\t\tcorrect += 1\n",
    "\treturn correct / float(len(actual)) * 100.0\n",
    " "
   ]
  },
  {
   "cell_type": "code",
   "execution_count": 1524,
   "metadata": {},
   "outputs": [
    {
     "output_type": "execute_result",
     "data": {
      "text/plain": [
       "72.83572958091159"
      ]
     },
     "metadata": {},
     "execution_count": 1524
    }
   ],
   "source": [
    "actual=test_set.iloc[:,-1]\n",
    "accuracy_metric(actual.values,Y_p)"
   ]
  },
  {
   "source": [
    "## Use My Model "
   ],
   "cell_type": "markdown",
   "metadata": {}
  },
  {
   "cell_type": "code",
   "execution_count": 1525,
   "metadata": {},
   "outputs": [
    {
     "output_type": "execute_result",
     "data": {
      "text/plain": [
       "72.83572958091159"
      ]
     },
     "metadata": {},
     "execution_count": 1525
    }
   ],
   "source": [
    "random.seed(0)\n",
    "train_df,test_df=train_test_splits(data,test_size=0.1)\n",
    "Tree=decision_tree_algorithm(train_df,min_sample=10)\n",
    "y_predict=predict(test_set,Tree)\n",
    "actual=test_df.iloc[:,-1]\n",
    "accuracy_metric(actual.values,y_predict)"
   ]
  },
  {
   "source": [
    "# Use Sicit_Learn Model To compare score"
   ],
   "cell_type": "markdown",
   "metadata": {}
  },
  {
   "cell_type": "code",
   "execution_count": 1526,
   "metadata": {},
   "outputs": [],
   "source": [
    "col= data.shape[1]\n",
    "X= data.iloc[:,:col-1]\n",
    "Y=data.iloc[:,col-1:col]"
   ]
  },
  {
   "cell_type": "code",
   "execution_count": 1527,
   "metadata": {},
   "outputs": [],
   "source": [
    "X_train, X_test, y_train, y_test = train_test_split(X, Y, test_size=0.3, random_state=1)"
   ]
  },
  {
   "cell_type": "code",
   "execution_count": 1528,
   "metadata": {},
   "outputs": [
    {
     "output_type": "stream",
     "name": "stdout",
     "text": [
      "Accuracy: 71.46426022229019\n"
     ]
    }
   ],
   "source": [
    "Model = DecisionTreeClassifier()\n",
    "Model.fit(X_train,y_train)\n",
    "y_pred = Model.predict(X_test)\n",
    "print(\"Accuracy:\",metrics.accuracy_score(y_test, y_pred)*100)"
   ]
  },
  {
   "source": [
    "# Bagging Ensemble Learning."
   ],
   "cell_type": "markdown",
   "metadata": {}
  },
  {
   "cell_type": "code",
   "execution_count": 1529,
   "metadata": {},
   "outputs": [],
   "source": [
    "def Bagged_fitting(data, num_of_bagged):\r\n",
    "        models=[]\r\n",
    "       \r\n",
    "        for i in range(num_of_bagged):\r\n",
    "            sample=data.sample(n=len(data))\r\n",
    "            model=decision_tree_algorithm(sample)\r\n",
    "            models.append(model)\r\n",
    "        return models   "
   ]
  },
  {
   "cell_type": "code",
   "execution_count": 1530,
   "metadata": {},
   "outputs": [],
   "source": [
    "def Bagged_prdiction(test_set,models,num_of_bagged):\n",
    "        pred=np.zeros(len(test_set))\n",
    "        for model in models:\n",
    "            pred+=predict(test_set,model)  \n",
    "        return np.round(pred/num_of_bagged) "
   ]
  },
  {
   "source": [
    "# Use My Bagging Ensemble Model"
   ],
   "cell_type": "markdown",
   "metadata": {}
  },
  {
   "cell_type": "code",
   "execution_count": 1531,
   "metadata": {},
   "outputs": [],
   "source": [
    "trees=Bagged(train_set,9)"
   ]
  },
  {
   "cell_type": "code",
   "execution_count": 1532,
   "metadata": {},
   "outputs": [
    {
     "output_type": "execute_result",
     "data": {
      "text/plain": [
       "71.93331293973692"
      ]
     },
     "metadata": {},
     "execution_count": 1532
    }
   ],
   "source": [
    "actual=test_set.iloc[:,-1]\r\n",
    "YM=Bagged_prdiction(test_set,trees,9)\r\n",
    "accuracy_metric(actual.values,YM)"
   ]
  },
  {
   "cell_type": "code",
   "execution_count": null,
   "metadata": {},
   "outputs": [],
   "source": []
  }
 ]
}